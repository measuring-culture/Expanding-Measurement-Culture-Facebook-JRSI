{
 "cells": [
  {
   "cell_type": "markdown",
   "metadata": {
    "slideshow": {
     "slide_type": "slide"
    }
   },
   "source": [
    "# Expanding the measurement of culture with a sample of two billion humans"
   ]
  },
  {
   "cell_type": "markdown",
   "metadata": {
    "slideshow": {
     "slide_type": "subslide"
    }
   },
   "source": [
    "## Replication Data and Code"
   ]
  },
  {
   "cell_type": "markdown",
   "metadata": {
    "slideshow": {
     "slide_type": "subslide"
    }
   },
   "source": [
    "This notebook provides all the steps to replicate the results of our paper [Expanding the measurement of culture with a sample of two billion humans](https://doi.org/10.1098/rsif.2022.0085) published in the *Journal of the Royal Society Interface 19:20220085* (2022)."
   ]
  },
  {
   "cell_type": "markdown",
   "metadata": {},
   "source": [
    "## Binder startup notebook"
   ]
  },
  {
   "cell_type": "markdown",
   "metadata": {},
   "source": [
    "From here you can open the other notebooks in this repository.\n",
    "\n",
    "# Notebooks\n",
    "\n",
    "1. [Country-Level Main Analysis](./1-Country-Distance-Main-Analyses.ipynb)\n",
    "2. [Country-Level Robustness Analysis - Euclidean Distances](./2-Country-Distance-Main-Analyses-Euc.ipynb)\n",
    "3. [Country-Level Robustness Analysis - Major Categories](./3-Country-Distance-Robustness-Analyses.ipynb)\n",
    "4. [Country-Level Robustness Analysis - Penetration+](./4-Country-Distance-Robustness-Penetration-Above.ipynb)\n",
    "5. [Country-Level Robustness Analysis - Penetration-](./5-Country-Distance-Robustness-Penetration-Below.ipynb)\n",
    "6. [Country-Level Robustness Analysis - Age+](./6-Country-Distance-Robustness-Age-Above.ipynb)\n",
    "7. [Country-Level Robustness Analysis - Age-](./7-Country-Distance-Robustness-Age-Below.ipynb)\n",
    "8. [Country-Level Robustness Analysis - Gender+](./8-Country-Distance-Robustness-Gender-Above.ipynb)\n",
    "9. [Country-Level Robustness Analysis - Gender-](./9-Country-Distance-Robustness-Gender-Below.ipynb)\n",
    "10. [Country-Level Robustness Analysis - Population Size & Penetration](./10-Country-Distance-Robustness-Population-Penetration.ipynb)\n",
    "11. [Region-Level Analysis - Similarity](./11-Plot-Region-Boxplots-Panel.ipynb)\n",
    "12. [Region & Gender - Similarity](./12-Region-Gender-Age-Cohesion-Scatter.ipynb)\n",
    "13. [Region & Gender - Similarity II](./13-Region-Gender-Age-Cohesion-Histo.ipynb)\n"
   ]
  },
  {
   "cell_type": "code",
   "execution_count": null,
   "metadata": {},
   "outputs": [],
   "source": []
  }
 ],
 "metadata": {
  "kernelspec": {
   "display_name": "Python 3 (ipykernel)",
   "language": "python",
   "name": "python3"
  },
  "language_info": {
   "codemirror_mode": {
    "name": "ipython",
    "version": 3
   },
   "file_extension": ".py",
   "mimetype": "text/x-python",
   "name": "python",
   "nbconvert_exporter": "python",
   "pygments_lexer": "ipython3",
   "version": "3.9.7"
  },
  "nbTranslate": {
   "displayLangs": [
    "*"
   ],
   "hotkey": "alt-t",
   "langInMainMenu": true,
   "sourceLang": "en",
   "targetLang": "fr",
   "useGoogleTranslate": true
  }
 },
 "nbformat": 4,
 "nbformat_minor": 4
}
